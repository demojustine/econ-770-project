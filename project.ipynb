{
 "cells": [
  {
   "cell_type": "markdown",
   "id": "5ec5db29",
   "metadata": {},
   "source": [
    "# The Relationship Between Suicide Rates and the Recession in the United States \n"
   ]
  },
  {
   "cell_type": "markdown",
   "id": "aabeeebe",
   "metadata": {},
   "source": [
    "### Meng Yuan\n"
   ]
  },
  {
   "cell_type": "markdown",
   "id": "b67337a9",
   "metadata": {},
   "source": [
    "## Data source \n",
    "1. GDP data is from Bureau of Economic Analysis \n",
    "https://www.bea.gov/data/gdp/gdp-state\n",
    " \n",
    "2. Suicide data is from Center for disease control and prevention\n",
    "https://wonder.cdc.gov/Deaths-by-Underlying-Cause.html\n",
    " \n",
    "3. map data is from Natural Earth\n",
    "https://www.naturalearthdata.com/"
   ]
  },
  {
   "cell_type": "markdown",
   "id": "e6a654b3",
   "metadata": {},
   "source": [
    "## Set the enviorment"
   ]
  },
  {
   "cell_type": "code",
   "execution_count": 1,
   "id": "709cd881",
   "metadata": {},
   "outputs": [],
   "source": [
    "#import packages tools needed\n",
    "\n",
    "import pandas as pd\n",
    "import matplotlib.pyplot as plt\n",
    "import numpy as np  \n",
    "import seaborn as sns\n",
    "\n",
    "import geopandas                            \n",
    "from shapely.geometry import Point          \n",
    "from mpl_toolkits.axes_grid1 import make_axes_locatable\n",
    "\n",
    "import patsy                           \n",
    "import statsmodels.api as sm          \n",
    "import statsmodels.formula.api as smf  \n"
   ]
  },
  {
   "cell_type": "markdown",
   "id": "8ddf8e49",
   "metadata": {},
   "source": [
    "## Preliminary Result "
   ]
  },
  {
   "cell_type": "code",
   "execution_count": 2,
   "id": "105c2ba3",
   "metadata": {},
   "outputs": [],
   "source": [
    "# Import GDP dataset from 2002 to 2016\n",
    "gdp_pr = pd.read_excel(\"gdp_rate.xls\", index_col = \"Year\", header = 5)\n",
    "gdp_pr = gdp_pr.rename(columns={\"Gross domestic product\":\"gdp_rate\"})"
   ]
  },
  {
   "cell_type": "code",
   "execution_count": 3,
   "id": "944e6e9a",
   "metadata": {},
   "outputs": [],
   "source": [
    "# Import suicide dataset from 2002 to 2016 and calculate the suicide rate\n",
    "suicide_pr = pd.read_excel(\"suicide_rate.xlsx\", usecols=[1,3,4] , skipfooter = 58)\n",
    "suicide_pr['crude'] = suicide_pr['Deaths'] / suicide_pr['Population'] *100000\n",
    "suicide_pr['Suicide_Rate'] = suicide_pr['crude'].pct_change()*100 \n",
    "suicide_pr = suicide_pr.set_index('Year')\n",
    "suicide_pr = suicide_pr.loc[\"2002\":\"2016\"]"
   ]
  },
  {
   "cell_type": "code",
   "execution_count": 4,
   "id": "a1304e57",
   "metadata": {},
   "outputs": [],
   "source": [
    "# Merge the dataset into one table\n",
    "merge_pr = pd.merge(left=gdp_pr, right=suicide_pr, on='Year', how='outer')\n",
    "merge_pr = merge_pr.reset_index()"
   ]
  },
  {
   "cell_type": "code",
   "execution_count": 6,
   "id": "325a340f",
   "metadata": {},
   "outputs": [
    {
     "data": {
      "image/png": "[encoded data removed]",
      "text/plain": [
       "<Figure size 936x612 with 1 Axes>"
      ]
     },
     "metadata": {
      "needs_background": "light"
     },
     "output_type": "display_data"
    }
   ],
   "source": [
    "# Plot the bar chart\n",
    "fig, ax = plt.subplots(figsize=(13,8.5))\n",
    "\n",
    "positions = list(range(len(merge_pr)))\n",
    "\n",
    "width = 0.3\n",
    "gap = 0.05\n",
    "\n",
    "positions_gdp = [p + 0.5*width + 0.5*gap for p in positions] \n",
    "bars_gdp = ax.bar(positions_gdp, merge_pr['gdp_rate'], width, color='orange', alpha=0.75) \n",
    "\n",
    "positions_suicide = [p - 0.5*width - 0.5*gap for p in positions] \n",
    "bars_suicide = ax.bar(positions_suicide, merge_pr['Suicide_Rate'], width, color='navy', alpha=0.75)\n",
    "\n",
    "ax.axhline(y=0, color='black', linewidth=0.75)  \n",
    "\n",
    "plt.xticks(positions, merge_pr['Year']) \n",
    "plt.legend(['Suicide','GDP'], loc='upper left')\n",
    "plt.ylabel(\"increase ratios\")\n",
    "plt.title(\"The relationship between suicide and the GDP increase rate\")\n",
    "\n",
    "ax.spines['right'].set_visible(False)\n",
    "ax.spines['top'].set_visible(False)\n",
    "\n",
    "ax.grid(axis='y', color='white')\n",
    "plt.savefig('proposal-new.svg')\n",
    "plt.show()"
   ]
  },
  {
   "cell_type": "markdown",
   "id": "59b45688",
   "metadata": {},
   "source": [
    "## GDP+suicide dataset of 2008 and 2009"
   ]
  },
  {
   "cell_type": "code",
   "execution_count": 2,
   "id": "9fa44a43",
   "metadata": {},
   "outputs": [],
   "source": [
    "# Import the original dataset\n",
    "\n",
    "gdp = pd.read_excel(\"gdp-state.xlsx\")\n",
    "suicide = pd.read_excel(\"suicide-state.xlsx\")"
   ]
  },
  {
   "cell_type": "code",
   "execution_count": 3,
   "id": "e9a11a93",
   "metadata": {},
   "outputs": [
    {
     "data": {
      "text/html": [
       "<div>\n",
       "<style scoped>\n",
       "    .dataframe tbody tr th:only-of-type {\n",
       "        vertical-align: middle;\n",
       "    }\n",
       "\n",
       "    .dataframe tbody tr th {\n",
       "        vertical-align: top;\n",
       "    }\n",
       "\n",
       "    .dataframe thead th {\n",
       "        text-align: right;\n",
       "    }\n",
       "</style>\n",
       "<table border=\"1\" class=\"dataframe\">\n",
       "  <thead>\n",
       "    <tr style=\"text-align: right;\">\n",
       "      <th></th>\n",
       "      <th>Year</th>\n",
       "      <th>GeoName</th>\n",
       "      <th>GDP</th>\n",
       "    </tr>\n",
       "  </thead>\n",
       "  <tbody>\n",
       "    <tr>\n",
       "      <th>0</th>\n",
       "      <td>2008</td>\n",
       "      <td>Alabama</td>\n",
       "      <td>-1.087710</td>\n",
       "    </tr>\n",
       "    <tr>\n",
       "      <th>1</th>\n",
       "      <td>2008</td>\n",
       "      <td>Alaska</td>\n",
       "      <td>-0.906595</td>\n",
       "    </tr>\n",
       "  </tbody>\n",
       "</table>\n",
       "</div>"
      ],
      "text/plain": [
       "   Year  GeoName       GDP\n",
       "0  2008  Alabama -1.087710\n",
       "1  2008   Alaska -0.906595"
      ]
     },
     "execution_count": 3,
     "metadata": {},
     "output_type": "execute_result"
    }
   ],
   "source": [
    "gdp.head(2)"
   ]
  },
  {
   "cell_type": "code",
   "execution_count": 4,
   "id": "a24b7175",
   "metadata": {},
   "outputs": [
    {
     "data": {
      "text/html": [
       "<div>\n",
       "<style scoped>\n",
       "    .dataframe tbody tr th:only-of-type {\n",
       "        vertical-align: middle;\n",
       "    }\n",
       "\n",
       "    .dataframe tbody tr th {\n",
       "        vertical-align: top;\n",
       "    }\n",
       "\n",
       "    .dataframe thead th {\n",
       "        text-align: right;\n",
       "    }\n",
       "</style>\n",
       "<table border=\"1\" class=\"dataframe\">\n",
       "  <thead>\n",
       "    <tr style=\"text-align: right;\">\n",
       "      <th></th>\n",
       "      <th>Year</th>\n",
       "      <th>GeoName</th>\n",
       "      <th>State Code</th>\n",
       "      <th>Deaths</th>\n",
       "      <th>Population</th>\n",
       "      <th>Crude Rate</th>\n",
       "      <th>suicide</th>\n",
       "    </tr>\n",
       "  </thead>\n",
       "  <tbody>\n",
       "    <tr>\n",
       "      <th>0</th>\n",
       "      <td>2008</td>\n",
       "      <td>Alabama</td>\n",
       "      <td>1</td>\n",
       "      <td>602</td>\n",
       "      <td>4718206</td>\n",
       "      <td>12.8</td>\n",
       "      <td>0.787402</td>\n",
       "    </tr>\n",
       "    <tr>\n",
       "      <th>1</th>\n",
       "      <td>2008</td>\n",
       "      <td>Alaska</td>\n",
       "      <td>2</td>\n",
       "      <td>169</td>\n",
       "      <td>687455</td>\n",
       "      <td>24.6</td>\n",
       "      <td>12.328767</td>\n",
       "    </tr>\n",
       "  </tbody>\n",
       "</table>\n",
       "</div>"
      ],
      "text/plain": [
       "   Year  GeoName  State Code  Deaths  Population  Crude Rate    suicide\n",
       "0  2008  Alabama           1     602     4718206        12.8   0.787402\n",
       "1  2008   Alaska           2     169      687455        24.6  12.328767"
      ]
     },
     "execution_count": 4,
     "metadata": {},
     "output_type": "execute_result"
    }
   ],
   "source": [
    "suicide.head(2)"
   ]
  },
  {
   "cell_type": "code",
   "execution_count": 5,
   "id": "3c89368a",
   "metadata": {},
   "outputs": [],
   "source": [
    "# Merge GDP and suicide rate into one dataframe\n",
    "merge_1 = pd.merge(left = gdp, right = suicide, on=['Year','GeoName'], how='outer')"
   ]
  },
  {
   "cell_type": "code",
   "execution_count": 6,
   "id": "8137d444",
   "metadata": {},
   "outputs": [
    {
     "data": {
      "text/html": [
       "<div>\n",
       "<style scoped>\n",
       "    .dataframe tbody tr th:only-of-type {\n",
       "        vertical-align: middle;\n",
       "    }\n",
       "\n",
       "    .dataframe tbody tr th {\n",
       "        vertical-align: top;\n",
       "    }\n",
       "\n",
       "    .dataframe thead th {\n",
       "        text-align: right;\n",
       "    }\n",
       "</style>\n",
       "<table border=\"1\" class=\"dataframe\">\n",
       "  <thead>\n",
       "    <tr style=\"text-align: right;\">\n",
       "      <th></th>\n",
       "      <th>Year</th>\n",
       "      <th>GeoName</th>\n",
       "      <th>GDP</th>\n",
       "      <th>State Code</th>\n",
       "      <th>Deaths</th>\n",
       "      <th>Population</th>\n",
       "      <th>Crude Rate</th>\n",
       "      <th>suicide</th>\n",
       "    </tr>\n",
       "  </thead>\n",
       "  <tbody>\n",
       "    <tr>\n",
       "      <th>0</th>\n",
       "      <td>2008</td>\n",
       "      <td>Alabama</td>\n",
       "      <td>-1.087710</td>\n",
       "      <td>1</td>\n",
       "      <td>602</td>\n",
       "      <td>4718206</td>\n",
       "      <td>12.8</td>\n",
       "      <td>0.787402</td>\n",
       "    </tr>\n",
       "    <tr>\n",
       "      <th>1</th>\n",
       "      <td>2008</td>\n",
       "      <td>Alaska</td>\n",
       "      <td>-0.906595</td>\n",
       "      <td>2</td>\n",
       "      <td>169</td>\n",
       "      <td>687455</td>\n",
       "      <td>24.6</td>\n",
       "      <td>12.328767</td>\n",
       "    </tr>\n",
       "  </tbody>\n",
       "</table>\n",
       "</div>"
      ],
      "text/plain": [
       "   Year  GeoName       GDP  State Code  Deaths  Population  Crude Rate  \\\n",
       "0  2008  Alabama -1.087710           1     602     4718206        12.8   \n",
       "1  2008   Alaska -0.906595           2     169      687455        24.6   \n",
       "\n",
       "     suicide  \n",
       "0   0.787402  \n",
       "1  12.328767  "
      ]
     },
     "execution_count": 6,
     "metadata": {},
     "output_type": "execute_result"
    }
   ],
   "source": [
    "merge_1.head(2)"
   ]
  },
  {
   "cell_type": "code",
   "execution_count": 7,
   "id": "021b1f88",
   "metadata": {},
   "outputs": [],
   "source": [
    "# Split the table into the target year\n",
    "merge_08 = merge_1[merge_1['Year'] == 2008]\n",
    "merge_09 = merge_1[merge_1['Year'] == 2009]"
   ]
  },
  {
   "cell_type": "code",
   "execution_count": 8,
   "id": "40163f6d",
   "metadata": {},
   "outputs": [
    {
     "name": "stdout",
     "output_type": "stream",
     "text": [
      "   Year  GeoName       GDP  State Code  Deaths  Population  Crude Rate  \\\n",
      "0  2008  Alabama -1.087710           1     602     4718206        12.8   \n",
      "1  2008   Alaska -0.906595           2     169      687455        24.6   \n",
      "\n",
      "     suicide  \n",
      "0   0.787402  \n",
      "1  12.328767  \n",
      "    Year  GeoName       GDP  State Code  Deaths  Population  Crude Rate  \\\n",
      "51  2009  Alabama -3.337582           1     673     4757938        14.1   \n",
      "52  2009   Alaska  9.683506           2     143      698895        20.5   \n",
      "\n",
      "      suicide  \n",
      "51  10.156250  \n",
      "52 -16.666667  \n"
     ]
    }
   ],
   "source": [
    "print(merge_08.head(2))\n",
    "print(merge_09.head(2))"
   ]
  },
  {
   "cell_type": "markdown",
   "id": "2eeff58c",
   "metadata": {},
   "source": [
    "## Map dataset"
   ]
  },
  {
   "cell_type": "code",
   "execution_count": 9,
   "id": "836e7912",
   "metadata": {},
   "outputs": [],
   "source": [
    "# Import the map data from \n",
    "states = geopandas.read_file('cb_2018_us_state_5m/cb_2018_us_state_5m.shp')"
   ]
  },
  {
   "cell_type": "code",
   "execution_count": 10,
   "id": "be0fc438",
   "metadata": {},
   "outputs": [
    {
     "data": {
      "text/html": [
       "<div>\n",
       "<style scoped>\n",
       "    .dataframe tbody tr th:only-of-type {\n",
       "        vertical-align: middle;\n",
       "    }\n",
       "\n",
       "    .dataframe tbody tr th {\n",
       "        vertical-align: top;\n",
       "    }\n",
       "\n",
       "    .dataframe thead th {\n",
       "        text-align: right;\n",
       "    }\n",
       "</style>\n",
       "<table border=\"1\" class=\"dataframe\">\n",
       "  <thead>\n",
       "    <tr style=\"text-align: right;\">\n",
       "      <th></th>\n",
       "      <th>STATEFP</th>\n",
       "      <th>STATENS</th>\n",
       "      <th>AFFGEOID</th>\n",
       "      <th>GEOID</th>\n",
       "      <th>STUSPS</th>\n",
       "      <th>NAME</th>\n",
       "      <th>LSAD</th>\n",
       "      <th>ALAND</th>\n",
       "      <th>AWATER</th>\n",
       "      <th>geometry</th>\n",
       "    </tr>\n",
       "  </thead>\n",
       "  <tbody>\n",
       "    <tr>\n",
       "      <th>0</th>\n",
       "      <td>31</td>\n",
       "      <td>01779792</td>\n",
       "      <td>0400000US31</td>\n",
       "      <td>31</td>\n",
       "      <td>NE</td>\n",
       "      <td>Nebraska</td>\n",
       "      <td>00</td>\n",
       "      <td>198956658395</td>\n",
       "      <td>1371829134</td>\n",
       "      <td>POLYGON ((-104.05351 41.15726, -104.05267 41.2...</td>\n",
       "    </tr>\n",
       "    <tr>\n",
       "      <th>1</th>\n",
       "      <td>53</td>\n",
       "      <td>01779804</td>\n",
       "      <td>0400000US53</td>\n",
       "      <td>53</td>\n",
       "      <td>WA</td>\n",
       "      <td>Washington</td>\n",
       "      <td>00</td>\n",
       "      <td>172112588220</td>\n",
       "      <td>12559278850</td>\n",
       "      <td>MULTIPOLYGON (((-122.32834 48.02134, -122.3217...</td>\n",
       "    </tr>\n",
       "  </tbody>\n",
       "</table>\n",
       "</div>"
      ],
      "text/plain": [
       "  STATEFP   STATENS     AFFGEOID GEOID STUSPS        NAME LSAD         ALAND  \\\n",
       "0      31  01779792  0400000US31    31     NE    Nebraska   00  198956658395   \n",
       "1      53  01779804  0400000US53    53     WA  Washington   00  172112588220   \n",
       "\n",
       "        AWATER                                           geometry  \n",
       "0   1371829134  POLYGON ((-104.05351 41.15726, -104.05267 41.2...  \n",
       "1  12559278850  MULTIPOLYGON (((-122.32834 48.02134, -122.3217...  "
      ]
     },
     "execution_count": 10,
     "metadata": {},
     "output_type": "execute_result"
    }
   ],
   "source": [
    "states.head(2)"
   ]
  },
  {
   "cell_type": "code",
   "execution_count": 12,
   "id": "e7f7110b",
   "metadata": {},
   "outputs": [],
   "source": [
    "states2 = states\n",
    "states_test = states2.drop([39,47,48,49,51]) # only remove the island outside us. Their row numbers are 39,47,48,49,51.\n",
    "states2 = states2.drop([27,55,39,47,48,49,51]) # Also remove Alaska and Hawaii. 55 - alaska  27 - hawaii"
   ]
  },
  {
   "cell_type": "code",
   "execution_count": 13,
   "id": "c0afb95a",
   "metadata": {},
   "outputs": [],
   "source": [
    "# Sort in order to convenient to check dataset\n",
    "states_test = states_test.sort_values(by = ['STATEFP'])\n",
    "states2 = states2.sort_values(by = ['STATEFP'])"
   ]
  },
  {
   "cell_type": "code",
   "execution_count": 14,
   "id": "6bc07f5c",
   "metadata": {
    "scrolled": true
   },
   "outputs": [
    {
     "data": {
      "text/html": [
       "<div>\n",
       "<style scoped>\n",
       "    .dataframe tbody tr th:only-of-type {\n",
       "        vertical-align: middle;\n",
       "    }\n",
       "\n",
       "    .dataframe tbody tr th {\n",
       "        vertical-align: top;\n",
       "    }\n",
       "\n",
       "    .dataframe thead th {\n",
       "        text-align: right;\n",
       "    }\n",
       "</style>\n",
       "<table border=\"1\" class=\"dataframe\">\n",
       "  <thead>\n",
       "    <tr style=\"text-align: right;\">\n",
       "      <th></th>\n",
       "      <th>STATEFP</th>\n",
       "      <th>STATENS</th>\n",
       "      <th>AFFGEOID</th>\n",
       "      <th>GEOID</th>\n",
       "      <th>STUSPS</th>\n",
       "      <th>NAME</th>\n",
       "      <th>LSAD</th>\n",
       "      <th>ALAND</th>\n",
       "      <th>AWATER</th>\n",
       "      <th>geometry</th>\n",
       "    </tr>\n",
       "  </thead>\n",
       "  <tbody>\n",
       "    <tr>\n",
       "      <th>8</th>\n",
       "      <td>01</td>\n",
       "      <td>01779775</td>\n",
       "      <td>0400000US01</td>\n",
       "      <td>01</td>\n",
       "      <td>AL</td>\n",
       "      <td>Alabama</td>\n",
       "      <td>00</td>\n",
       "      <td>131174048583</td>\n",
       "      <td>4593327154</td>\n",
       "      <td>MULTIPOLYGON (((-88.04374 30.51742, -88.03661 ...</td>\n",
       "    </tr>\n",
       "    <tr>\n",
       "      <th>28</th>\n",
       "      <td>04</td>\n",
       "      <td>01779777</td>\n",
       "      <td>0400000US04</td>\n",
       "      <td>04</td>\n",
       "      <td>AZ</td>\n",
       "      <td>Arizona</td>\n",
       "      <td>00</td>\n",
       "      <td>294198551143</td>\n",
       "      <td>1027337603</td>\n",
       "      <td>POLYGON ((-114.79968 32.59362, -114.80939 32.6...</td>\n",
       "    </tr>\n",
       "  </tbody>\n",
       "</table>\n",
       "</div>"
      ],
      "text/plain": [
       "   STATEFP   STATENS     AFFGEOID GEOID STUSPS     NAME LSAD         ALAND  \\\n",
       "8       01  01779775  0400000US01    01     AL  Alabama   00  131174048583   \n",
       "28      04  01779777  0400000US04    04     AZ  Arizona   00  294198551143   \n",
       "\n",
       "        AWATER                                           geometry  \n",
       "8   4593327154  MULTIPOLYGON (((-88.04374 30.51742, -88.03661 ...  \n",
       "28  1027337603  POLYGON ((-114.79968 32.59362, -114.80939 32.6...  "
      ]
     },
     "execution_count": 14,
     "metadata": {},
     "output_type": "execute_result"
    }
   ],
   "source": [
    "states2.head(2)"
   ]
  },
  {
   "cell_type": "markdown",
   "id": "0f770db8",
   "metadata": {},
   "source": [
    "## Merge "
   ]
  },
  {
   "cell_type": "code",
   "execution_count": 16,
   "id": "7e286f9d",
   "metadata": {},
   "outputs": [],
   "source": [
    "# Merge the statistics data with map data\n",
    "map_08_test = pd.merge(left = states_test, right = merge_08, left_on = ['NAME'], right_on = ['GeoName'], how = 'left')\n",
    "map_08 = pd.merge(left = states2, right = merge_08, left_on = ['NAME'], right_on = ['GeoName'], how = 'left')\n",
    "map_09 = pd.merge(left = states2, right = merge_09, left_on = ['NAME'], right_on = ['GeoName'], how = 'left')"
   ]
  },
  {
   "cell_type": "code",
   "execution_count": 18,
   "id": "ba1e2472",
   "metadata": {},
   "outputs": [
    {
     "data": {
      "text/plain": [
       "(49, 18)"
      ]
     },
     "execution_count": 18,
     "metadata": {},
     "output_type": "execute_result"
    }
   ],
   "source": [
    "map_09.shape"
   ]
  },
  {
   "cell_type": "code",
   "execution_count": 19,
   "id": "b86a095d",
   "metadata": {
    "scrolled": false
   },
   "outputs": [
    {
     "name": "stdout",
     "output_type": "stream",
     "text": [
      "  STATEFP   STATENS     AFFGEOID GEOID STUSPS     NAME LSAD         ALAND  \\\n",
      "0      01  01779775  0400000US01    01     AL  Alabama   00  131174048583   \n",
      "1      04  01779777  0400000US04    04     AZ  Arizona   00  294198551143   \n",
      "\n",
      "       AWATER                                           geometry  Year  \\\n",
      "0  4593327154  MULTIPOLYGON (((-88.04374 30.51742, -88.03661 ...  2008   \n",
      "1  1027337603  POLYGON ((-114.79968 32.59362, -114.80939 32.6...  2008   \n",
      "\n",
      "   GeoName      GDP  State Code  Deaths  Population  Crude Rate   suicide  \n",
      "0  Alabama -1.08771           1     602     4718206        12.8  0.787402  \n",
      "1  Arizona -0.86164           4     972     6280362        15.5 -6.060606  \n",
      "  STATEFP   STATENS     AFFGEOID GEOID STUSPS     NAME LSAD         ALAND  \\\n",
      "0      01  01779775  0400000US01    01     AL  Alabama   00  131174048583   \n",
      "1      04  01779777  0400000US04    04     AZ  Arizona   00  294198551143   \n",
      "\n",
      "       AWATER                                           geometry  Year  \\\n",
      "0  4593327154  MULTIPOLYGON (((-88.04374 30.51742, -88.03661 ...  2009   \n",
      "1  1027337603  POLYGON ((-114.79968 32.59362, -114.80939 32.6...  2009   \n",
      "\n",
      "   GeoName       GDP  State Code  Deaths  Population  Crude Rate    suicide  \n",
      "0  Alabama -3.337582           1     673     4757938        14.1  10.156250  \n",
      "1  Arizona -8.301553           4    1058     6343154        16.7   7.741935  \n"
     ]
    }
   ],
   "source": [
    "print(map_08.head(2))\n",
    "print(map_09.head(2))"
   ]
  },
  {
   "cell_type": "markdown",
   "id": "32eb3ef3",
   "metadata": {},
   "source": [
    "## Map graph"
   ]
  },
  {
   "cell_type": "code",
   "execution_count": 21,
   "id": "9ce27857",
   "metadata": {
    "scrolled": true
   },
   "outputs": [
    {
     "data": {
      "image/png": "[encoded data removed]",
      "text/plain": [
       "<Figure size 1440x1440 with 2 Axes>"
      ]
     },
     "metadata": {
      "needs_background": "light"
     },
     "output_type": "display_data"
    }
   ],
   "source": [
    "# Use the first dataset, looks not very well\n",
    "fig, ax = plt.subplots(figsize=(20,20))\n",
    "\n",
    "divider = make_axes_locatable(ax)\n",
    "legend_ax = divider.append_axes('right', size='3%', pad=0.1)\n",
    "map_08_test.plot(ax = ax, column='GDP', edgecolor='black',cmap = 'Blues', legend=True, cax=legend_ax)\n",
    "\n",
    "ax.set_title('GDP change rate in United State, 2008', fontsize = 20)\n",
    "ax.axis('off')\n",
    "plt.savefig('map-not-good.svg',bbox_inches='tight')\n",
    "plt.show()"
   ]
  },
  {
   "cell_type": "code",
   "execution_count": null,
   "id": "44b7e797",
   "metadata": {
    "scrolled": true
   },
   "outputs": [],
   "source": [
    "# Plot the GDP change when remove Alaska and Hawaii\n",
    "fig, ax = plt.subplots(2,1,figsize=(30,30)) \n",
    "\n",
    "divider1 = make_axes_locatable(ax[0])\n",
    "divider2 = make_axes_locatable(ax[1])\n",
    "legend_ax1 = divider1.append_axes('right', size='5%', pad=0.1)\n",
    "legend_ax2 = divider2.append_axes('right', size='5%', pad=0.1)\n",
    "map_08.plot(ax = ax[0], column='GDP', edgecolor='black',cmap = 'coolwarm', legend=True, cax=legend_ax1)\n",
    "map_09.plot(ax = ax[1], column='GDP', edgecolor='black',cmap = 'coolwarm', legend=True, cax=legend_ax2)\n",
    "\n",
    "ax[0].set_title('GDP change rate in United State, 2008', fontsize = 30)\n",
    "ax[1].set_title('GDP change rate in United State, 2009', fontsize = 30)\n",
    "ax[0].axis('off')\n",
    "ax[1].axis('off')\n",
    "\n",
    "plt.savefig('map-gdp-1.0.svg',bbox_inches='tight')\n",
    "plt.show()\n"
   ]
  },
  {
   "cell_type": "code",
   "execution_count": null,
   "id": "681f043b",
   "metadata": {},
   "outputs": [],
   "source": [
    "# Plot the suicide change when remove Alaska and Hawaii\n",
    "fig, ax = plt.subplots(2,1,figsize=(30,30)) \n",
    "\n",
    "divider1 = make_axes_locatable(ax[0])\n",
    "divider2 = make_axes_locatable(ax[1])\n",
    "legend_ax1 = divider1.append_axes('right', size='5%', pad=0.1)\n",
    "legend_ax2 = divider2.append_axes('right', size='5%', pad=0.1)\n",
    "map_08.plot(ax = ax[0], column='suicide', edgecolor='black',cmap = 'coolwarm', legend=True, cax=legend_ax1)\n",
    "map_09.plot(ax = ax[1], column='suicide', edgecolor='black',cmap = 'coolwarm', legend=True, cax=legend_ax2)\n",
    "\n",
    "ax[0].set_title('Suicide change rate in United State, 2008', fontsize = 30)\n",
    "ax[1].set_title('Suicide change rate in United State, 2009', fontsize = 30)\n",
    "ax[0].axis('off')\n",
    "ax[1].axis('off')\n",
    "\n",
    "plt.savefig('map-suicide-2.0.svg',bbox_inches = 'tight')\n",
    "plt.show()\n"
   ]
  },
  {
   "cell_type": "markdown",
   "id": "8ba0ca6d",
   "metadata": {},
   "source": [
    "```\n",
    "fig, ax = plt.subplots(figsize=(50,50))\n",
    "\n",
    "map_09.plot(ax = ax, column='GDP', edgecolor='black',cmap = 'Blues', legend=True)\n",
    "\n",
    "ax.set_title('GDP 2009', fontsize = 50)\n",
    "plt.axis('off')\n",
    "plt.savefig('map-gdp-2009-2.0.svg')\n",
    "plt.show()\n",
    "```"
   ]
  },
  {
   "cell_type": "markdown",
   "id": "1b5d9c48",
   "metadata": {},
   "source": [
    "```\n",
    "fig, ax = plt.subplots(figsize=(20,20))\n",
    "\n",
    "map_08.plot(ax = ax, column='suicide', edgecolor='black',cmap = 'Oranges', legend=True)\n",
    "\n",
    "ax.set_title('suicide 2008', fontsize = 50)\n",
    "plt.axis('off')\n",
    "plt.savefig('map-suicide-2008-2.0.svg')\n",
    "plt.show()\n",
    "```"
   ]
  },
  {
   "cell_type": "markdown",
   "id": "8f299447",
   "metadata": {},
   "source": [
    "```\n",
    "fig, ax = plt.subplots(figsize=(50,50))\n",
    "\n",
    "map_09.plot(ax = ax, column='suicide', edgecolor='black',cmap = 'Oranges', legend=True)\n",
    "\n",
    "ax.set_title('suicide 2009', fontsize = 50)\n",
    "plt.axis('off')\n",
    "plt.savefig('map-suicide-2009-2.0.svg')\n",
    "plt.show()\n",
    "```"
   ]
  },
  {
   "cell_type": "markdown",
   "id": "d542a2a1",
   "metadata": {},
   "source": [
    "## Bar chart"
   ]
  },
  {
   "cell_type": "code",
   "execution_count": null,
   "id": "501acd6a",
   "metadata": {},
   "outputs": [],
   "source": [
    "# Chose the top 10 high suicide data\n",
    "bar_08 = map_08.sort_values(by = ['suicide'])\n",
    "bar_top10_08 = bar_08.tail(10)"
   ]
  },
  {
   "cell_type": "code",
   "execution_count": null,
   "id": "e04c5ee4",
   "metadata": {},
   "outputs": [],
   "source": [
    "bar_top10_08.head(2)"
   ]
  },
  {
   "cell_type": "code",
   "execution_count": null,
   "id": "47efb535",
   "metadata": {},
   "outputs": [],
   "source": [
    "# Chose the top 10 high suicide data\n",
    "bar_09 = map_09.sort_values(by = ['suicide'])\n",
    "bar_top10_09 = bar_09.tail(10)"
   ]
  },
  {
   "cell_type": "code",
   "execution_count": null,
   "id": "b38821fa",
   "metadata": {},
   "outputs": [],
   "source": [
    "# Plot the bar chart in 2008\n",
    "fig, ax = plt.subplots(figsize=(13,8.5))\n",
    "\n",
    "positions = list(range(len(bar_top10_08)))\n",
    "\n",
    "width = 0.3\n",
    "gap = 0.05\n",
    "\n",
    "positions_gdp = [p + 0.5*width + 0.5*gap for p in positions] \n",
    "bars_gdp = ax.bar(positions_gdp, bar_top10_08['GDP'], width, color='orange', alpha=0.75) \n",
    "\n",
    "positions_suicide = [p - 0.5*width - 0.5*gap for p in positions] \n",
    "bars_suicide = ax.bar(positions_suicide, bar_top10_08['suicide'], width, color='navy', alpha=0.75)\n",
    "\n",
    "ax.axhline(y=0, color='black', linewidth=0.75)  \n",
    "\n",
    "plt.xticks(positions, bar_top10_08['NAME']) \n",
    "plt.legend(['Suicide','GDP'], loc='upper left')\n",
    "plt.ylabel(\"increase ratios\")\n",
    "plt.title(\"Top 10 of The relationship between suicide and the GDP increase rate\")\n",
    "\n",
    "ax.spines['right'].set_visible(False)\n",
    "ax.spines['top'].set_visible(False)\n",
    "ax.tick_params(axis='x', which='major', rotation=45)\n",
    "\n",
    "ax.grid(axis='y', color='white')\n",
    "plt.savefig('bar-08-1.0.svg',bbox_inches='tight')\n",
    "plt.show()"
   ]
  },
  {
   "cell_type": "code",
   "execution_count": null,
   "id": "5ccdfba0",
   "metadata": {},
   "outputs": [],
   "source": [
    "# Plot the bar chart in 2009\n",
    "fig, ax = plt.subplots(figsize=(13,8.5))\n",
    "\n",
    "positions = list(range(len(bar_top10_09)))\n",
    "\n",
    "width = 0.3\n",
    "gap = 0.05\n",
    "\n",
    "positions_gdp = [p + 0.5*width + 0.5*gap for p in positions] \n",
    "bars_gdp = ax.bar(positions_gdp, bar_top10_09['GDP'], width, color='orange', alpha=0.75) \n",
    "\n",
    "positions_suicide = [p - 0.5*width - 0.5*gap for p in positions] \n",
    "bars_suicide = ax.bar(positions_suicide, bar_top10_09['suicide'], width, color='navy', alpha=0.75)\n",
    "\n",
    "ax.axhline(y=0, color='black', linewidth=0.75)  \n",
    "\n",
    "plt.xticks(positions, bar_top10_09['NAME']) \n",
    "plt.legend(['Suicide','GDP'], loc='upper left')\n",
    "plt.ylabel(\"increase ratios\")\n",
    "plt.title(\"Top 10 of The relationship between suicide and the GDP increase rate\")\n",
    "\n",
    "ax.spines['right'].set_visible(False)\n",
    "ax.spines['top'].set_visible(False)\n",
    "ax.tick_params(axis='x', which='major', rotation=45)\n",
    "\n",
    "ax.grid(axis='y', color='white')\n",
    "plt.savefig('bar-09-1.0.svg',bbox_inches='tight')\n",
    "plt.show()"
   ]
  },
  {
   "cell_type": "markdown",
   "id": "21a7b20d",
   "metadata": {},
   "source": [
    "## Scatter  "
   ]
  },
  {
   "cell_type": "code",
   "execution_count": null,
   "id": "c9b6a227",
   "metadata": {},
   "outputs": [],
   "source": [
    "# Plot the scatter plot in 2008\n",
    "fig, ax = plt.subplots(figsize=(13,8.5))\n",
    "ax.scatter(merge_08['GDP'], merge_08['suicide'],color='tomato', s=30) \n",
    "plt.xlabel(\"GDP increase ratios\")\n",
    "plt.ylabel(\"Suicide rate increase ratios\")\n",
    "plt.title(\"Scatter plot between suicide and the GDP increase rate, 2008\")\n",
    "plt.savefig('scatter2.0-08.svg',bbox_inches='tight')\n",
    "plt.show()"
   ]
  },
  {
   "cell_type": "code",
   "execution_count": null,
   "id": "6b9f4cc0",
   "metadata": {},
   "outputs": [],
   "source": [
    "# Plot the scatter plot in 2009\n",
    "fig, ax = plt.subplots(figsize=(13,8.5))\n",
    "ax.scatter(merge_09['GDP'], merge_09['suicide'],color='tomato', s=30) \n",
    "plt.xlabel(\"GDP increase ratios\")\n",
    "plt.ylabel(\"Suicide rate increase ratios\")\n",
    "plt.title(\"Scatter plot between suicide and the GDP increase rate, 2009\")\n",
    "plt.savefig('scatter2.0-09.svg',bbox_inches='tight')\n",
    "plt.show()"
   ]
  },
  {
   "cell_type": "code",
   "execution_count": null,
   "id": "2a8ad3b1",
   "metadata": {},
   "outputs": [],
   "source": [
    "# Plot the scatter with regression line in 2008\n",
    "fig, ax = plt.subplots(figsize=(13,8.5))\n",
    "\n",
    "sns.regplot(x='GDP',                                       \n",
    "            y='suicide',                                        \n",
    "            data=merge_08,                                          \n",
    "            ax = ax,                                         \n",
    "            color = 'navy',                                  \n",
    "            ci = 95)    \n",
    "plt.xlabel(\"GDP increase ratios\")\n",
    "plt.ylabel(\"Suicide rate increase ratios\")\n",
    "plt.title(\"Regression plot between suicide and the GDP increase rate\")\n",
    "plt.savefig('scatter1.0-08.svg',bbox_inches='tight')\n",
    "plt.show()"
   ]
  },
  {
   "cell_type": "code",
   "execution_count": null,
   "id": "65d6b2ed",
   "metadata": {},
   "outputs": [],
   "source": [
    "# Plot the scatter with regression line in 2009\n",
    "fig, ax = plt.subplots(figsize=(13,8.5))\n",
    "\n",
    "sns.regplot(x='GDP',                                       \n",
    "            y='suicide',                                        \n",
    "            data=merge_09,                                          \n",
    "            ax = ax,                                         \n",
    "            color = 'navy',                                  \n",
    "            ci = 95)    \n",
    "plt.xlabel(\"GDP increase ratios\")\n",
    "plt.ylabel(\"Suicide rate increase ratios\")\n",
    "plt.title(\"Regression plot between suicide and the GDP increase rate\")\n",
    "plt.savefig('scatter1.0-09.svg',bbox_inches='tight')\n",
    "plt.show()"
   ]
  },
  {
   "cell_type": "markdown",
   "id": "e4ac984c",
   "metadata": {},
   "source": [
    "```\n",
    "fig, ax = plt.subplots(figsize=(13,8.5))\n",
    "\n",
    "sns.regplot(x='GDP', y='suicide', data=merge_1,   \n",
    "            ax = ax,                                   # an axis object\n",
    "            #scatter_kws={'s': merge_1['suicide']},      # make the marker proportional to population            \n",
    "            #scatter_kws={'s': 25},\n",
    "            color = 'blue',                            # make it blue\n",
    "            ci = 95,                                   # confidence interval: pass it the percent\n",
    "            logx = True)                               # semi-log regression\n",
    "\n",
    "plt.xlabel(\"GDP increase ratios\")\n",
    "plt.ylabel(\"Suicide rate increase ratios\")\n",
    "plt.title(\"Regression plot between suicide and the GDP increase rate\")\n",
    "plt.savefig('scatter3.0.svg',bbox_inches='tight')\n",
    "plt.show()\n",
    "```"
   ]
  },
  {
   "cell_type": "markdown",
   "id": "efbed486",
   "metadata": {},
   "source": [
    "## OLS"
   ]
  },
  {
   "cell_type": "code",
   "execution_count": null,
   "id": "d3118893",
   "metadata": {},
   "outputs": [],
   "source": [
    "# Run OLS regression on two vairables\n",
    "ols_01 = smf.ols('GDP ~ suicide', data = merge_1).fit()"
   ]
  },
  {
   "cell_type": "code",
   "execution_count": null,
   "id": "ea2f5088",
   "metadata": {},
   "outputs": [],
   "source": [
    "ols_08 = smf.ols('GDP ~ suicide', data = merge_08).fit()"
   ]
  },
  {
   "cell_type": "code",
   "execution_count": null,
   "id": "9031f359",
   "metadata": {},
   "outputs": [],
   "source": [
    "ols_09 = smf.ols('GDP ~ suicide', data = merge_09).fit()"
   ]
  },
  {
   "cell_type": "code",
   "execution_count": null,
   "id": "c6e89072",
   "metadata": {},
   "outputs": [],
   "source": [
    "print(ols_01.summary())"
   ]
  },
  {
   "cell_type": "code",
   "execution_count": null,
   "id": "9179f9fb",
   "metadata": {},
   "outputs": [],
   "source": [
    "print(ols_08.summary())"
   ]
  },
  {
   "cell_type": "code",
   "execution_count": null,
   "id": "ba10eb07",
   "metadata": {},
   "outputs": [],
   "source": [
    "print(ols_09.summary())"
   ]
  }
 ],
 "metadata": {
  "kernelspec": {
   "display_name": "Python 3 (ipykernel)",
   "language": "python",
   "name": "python3"
  },
  "language_info": {
   "codemirror_mode": {
    "name": "ipython",
    "version": 3
   },
   "file_extension": ".py",
   "mimetype": "text/x-python",
   "name": "python",
   "nbconvert_exporter": "python",
   "pygments_lexer": "ipython3",
   "version": "3.9.7"
  }
 },
 "nbformat": 4,
 "nbformat_minor": 5
}
